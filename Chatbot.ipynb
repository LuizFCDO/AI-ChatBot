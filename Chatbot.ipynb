{
 "cells": [
  {
   "cell_type": "markdown",
   "id": "158377f3",
   "metadata": {},
   "source": [
    "Setando a variável de ambiente \"GEMINI_API_KEY\""
   ]
  },
  {
   "cell_type": "code",
   "execution_count": 1,
   "id": "d71dd255",
   "metadata": {},
   "outputs": [],
   "source": [
    "from dotenv import load_dotenv\n",
    "import os\n",
    "\n",
    "load_dotenv() # Carrega as variáveis do arquivo .env\n",
    "\n",
    "api_key = os.getenv('GEMINI_API_KEY')\n",
    "\n",
    "if not api_key:\n",
    "    print(\"Erro: A variável de ambiente 'GEMINI_API_KEY' não está definida.\")\n",
    "    exit()\n",
    "\n",
    "os.environ[\"GOOGLE_API_KEY\"] = api_key"
   ]
  },
  {
   "cell_type": "markdown",
   "id": "4f0a411b",
   "metadata": {},
   "source": [
    "Configurando cliente para acessar o SDK"
   ]
  },
  {
   "cell_type": "code",
   "execution_count": 2,
   "id": "44207731",
   "metadata": {},
   "outputs": [],
   "source": [
    "from google import genai\n",
    "\n",
    "client = genai.Client()"
   ]
  },
  {
   "cell_type": "markdown",
   "id": "63ecdaf4",
   "metadata": {},
   "source": [
    "Modelos de linguagem disponíveis:"
   ]
  },
  {
   "cell_type": "code",
   "execution_count": 3,
   "id": "17f1138b",
   "metadata": {},
   "outputs": [
    {
     "name": "stdout",
     "output_type": "stream",
     "text": [
      "models/embedding-gecko-001\n",
      "models/gemini-1.0-pro-vision-latest\n",
      "models/gemini-pro-vision\n",
      "models/gemini-1.5-pro-latest\n",
      "models/gemini-1.5-pro-001\n",
      "models/gemini-1.5-pro-002\n",
      "models/gemini-1.5-pro\n",
      "models/gemini-1.5-flash-latest\n",
      "models/gemini-1.5-flash-001\n",
      "models/gemini-1.5-flash-001-tuning\n",
      "models/gemini-1.5-flash\n",
      "models/gemini-1.5-flash-002\n",
      "models/gemini-1.5-flash-8b\n",
      "models/gemini-1.5-flash-8b-001\n",
      "models/gemini-1.5-flash-8b-latest\n",
      "models/gemini-1.5-flash-8b-exp-0827\n",
      "models/gemini-1.5-flash-8b-exp-0924\n",
      "models/gemini-2.5-pro-exp-03-25\n",
      "models/gemini-2.5-pro-preview-03-25\n",
      "models/gemini-2.5-flash-preview-04-17\n",
      "models/gemini-2.5-flash-preview-05-20\n",
      "models/gemini-2.5-flash-preview-04-17-thinking\n",
      "models/gemini-2.5-pro-preview-05-06\n",
      "models/gemini-2.0-flash-exp\n",
      "models/gemini-2.0-flash\n",
      "models/gemini-2.0-flash-001\n",
      "models/gemini-2.0-flash-exp-image-generation\n",
      "models/gemini-2.0-flash-lite-001\n",
      "models/gemini-2.0-flash-lite\n",
      "models/gemini-2.0-flash-preview-image-generation\n",
      "models/gemini-2.0-flash-lite-preview-02-05\n",
      "models/gemini-2.0-flash-lite-preview\n",
      "models/gemini-2.0-pro-exp\n",
      "models/gemini-2.0-pro-exp-02-05\n",
      "models/gemini-exp-1206\n",
      "models/gemini-2.0-flash-thinking-exp-01-21\n",
      "models/gemini-2.0-flash-thinking-exp\n",
      "models/gemini-2.0-flash-thinking-exp-1219\n",
      "models/gemini-2.5-flash-preview-tts\n",
      "models/gemini-2.5-pro-preview-tts\n",
      "models/learnlm-2.0-flash-experimental\n",
      "models/gemma-3-1b-it\n",
      "models/gemma-3-4b-it\n",
      "models/gemma-3-12b-it\n",
      "models/gemma-3-27b-it\n",
      "models/gemma-3n-e4b-it\n",
      "models/embedding-001\n",
      "models/text-embedding-004\n",
      "models/gemini-embedding-exp-03-07\n",
      "models/gemini-embedding-exp\n",
      "models/aqa\n",
      "models/imagen-3.0-generate-002\n",
      "models/gemini-2.5-flash-preview-native-audio-dialog\n",
      "models/gemini-2.5-flash-exp-native-audio-thinking-dialog\n",
      "models/gemini-2.0-flash-live-001\n"
     ]
    }
   ],
   "source": [
    "for model in client.models.list():\n",
    "  print(model.name)"
   ]
  },
  {
   "cell_type": "markdown",
   "id": "a0e00ee7",
   "metadata": {},
   "source": [
    "Primeira interação utilizando o cliente configurado com o modelo escolhido"
   ]
  },
  {
   "cell_type": "code",
   "execution_count": 12,
   "id": "793d2581",
   "metadata": {},
   "outputs": [
    {
     "name": "stdout",
     "output_type": "stream",
     "text": [
      "candidates=[Candidate(content=Content(parts=[Part(video_metadata=None, thought=None, inline_data=None, code_execution_result=None, executable_code=None, file_data=None, function_call=None, function_response=None, text='A empresa por trás dos modelos Gemini é o **Google**.\\n')], role='model'), citation_metadata=None, finish_message=None, token_count=None, finish_reason=<FinishReason.STOP: 'STOP'>, avg_logprobs=-0.07648693598233737, grounding_metadata=None, index=None, logprobs_result=None, safety_ratings=None)] create_time=None response_id=None model_version='gemini-2.0-flash' prompt_feedback=None usage_metadata=GenerateContentResponseUsageMetadata(cache_tokens_details=None, cached_content_token_count=None, candidates_token_count=13, candidates_tokens_details=[ModalityTokenCount(modality=<MediaModality.TEXT: 'TEXT'>, token_count=13)], prompt_token_count=11, prompt_tokens_details=[ModalityTokenCount(modality=<MediaModality.TEXT: 'TEXT'>, token_count=11)], thoughts_token_count=None, tool_use_prompt_token_count=None, tool_use_prompt_tokens_details=None, total_token_count=24, traffic_type=None) automatic_function_calling_history=[] parsed=None\n"
     ]
    }
   ],
   "source": [
    "model = \"gemini-2.0-flash\"\n",
    "\n",
    "response = client.models.generate_content(model=model, contents=\"Quem é a empresa por trás dos modelos gemini?\")\n",
    "\n",
    "print(response)"
   ]
  },
  {
   "cell_type": "code",
   "execution_count": 5,
   "id": "7959ba50",
   "metadata": {},
   "outputs": [
    {
     "data": {
      "text/plain": [
       "'A empresa por trás dos modelos Gemini é o **Google**.\\n'"
      ]
     },
     "execution_count": 5,
     "metadata": {},
     "output_type": "execute_result"
    }
   ],
   "source": [
    "response.text"
   ]
  },
  {
   "cell_type": "markdown",
   "id": "bde2205f",
   "metadata": {},
   "source": [
    "Criando primeiro chat"
   ]
  },
  {
   "cell_type": "code",
   "execution_count": 6,
   "id": "e706f23a",
   "metadata": {},
   "outputs": [
    {
     "data": {
      "text/plain": [
       "'Tudo bem por aqui! 😊 Como posso te ajudar hoje?\\n'"
      ]
     },
     "execution_count": 6,
     "metadata": {},
     "output_type": "execute_result"
    }
   ],
   "source": [
    "chat = client.chats.create(model=model)\n",
    "\n",
    "response = chat.send_message(\"Oi, tudo bem?\")\n",
    "response.text"
   ]
  },
  {
   "cell_type": "code",
   "execution_count": 7,
   "id": "f46acbcd",
   "metadata": {},
   "outputs": [
    {
     "data": {
      "text/plain": [
       "'A primeira pergunta que você me fez foi: \"Oi, tudo bem?\".\\n'"
      ]
     },
     "execution_count": 7,
     "metadata": {},
     "output_type": "execute_result"
    }
   ],
   "source": [
    "response = chat.send_message(\"Pode me dizer a primeira pergunta que eu fiz?\")\n",
    "response.text"
   ]
  },
  {
   "cell_type": "code",
   "execution_count": 8,
   "id": "62abbd1f",
   "metadata": {},
   "outputs": [
    {
     "data": {
      "text/plain": [
       "'Computação quântica é um tipo de computação que usa os princípios da mecânica quântica para resolver problemas complexos que são intratáveis para computadores clássicos. Em vez de usar bits, que representam 0 ou 1, computadores quânticos usam *qubits*, que podem representar 0, 1 ou uma combinação de ambos simultaneamente, graças aos fenômenos da superposição e do entrelaçamento quântico.\\n\\n**Em termos mais simples, imagine o seguinte:**\\n\\n*   **Computador clássico:** Pense em um interruptor de luz que só pode estar ligado (1) ou desligado (0) em um dado momento.\\n*   **Computador quântico:** Pense em uma moeda girando no ar. Ela não é cara nem coroa até você parar ela e observar. O qubit é como essa moeda girando, podendo ser cara, coroa ou uma mistura dos dois ao mesmo tempo.\\n\\n**Aqui estão alguns conceitos chave da computação quântica:**\\n\\n*   **Qubit:** A unidade básica de informação quântica.\\n*   **Superposição:** A capacidade de um qubit existir em múltiplos estados (0 e 1) ao mesmo tempo. Isso permite que computadores quânticos explorem múltiplas possibilidades simultaneamente.\\n*   **Entrelaçamento quântico:** A ligação entre dois ou mais qubits, onde o estado de um influencia instantaneamente o estado dos outros, mesmo que estejam separados por grandes distâncias.\\n*   **Decoerência:** A perda da superposição e do entrelaçamento, o que é um desafio importante na construção de computadores quânticos estáveis.\\n*   **Algoritmos quânticos:** Algoritmos projetados para tirar proveito das propriedades quânticas para resolver problemas específicos de forma mais eficiente que os algoritmos clássicos.\\n\\n**Aplicações potenciais da computação quântica:**\\n\\n*   **Descoberta de medicamentos e materiais:** Simular moléculas e materiais complexos para acelerar o desenvolvimento de novos medicamentos e materiais.\\n*   **Otimização:** Resolver problemas de otimização em áreas como logística, finanças e inteligência artificial.\\n*   **Criptografia:** Quebrar códigos criptográficos existentes e desenvolver novos métodos de criptografia mais seguros.\\n*   **Inteligência artificial:** Melhorar o aprendizado de máquina e o reconhecimento de padrões.\\n\\n**É importante notar que a computação quântica ainda está em desenvolvimento e enfrenta muitos desafios:**\\n\\n*   **Construção de qubits estáveis:** Manter a superposição e o entrelaçamento é difícil devido à decoerência.\\n*   **Escalabilidade:** Aumentar o número de qubits em um computador quântico é um desafio técnico significativo.\\n*   **Correção de erros:** Computadores quânticos são propensos a erros, e desenvolver técnicas de correção de erros é fundamental.\\n\\nApesar dos desafios, a computação quântica tem um enorme potencial para revolucionar muitas áreas da ciência e da tecnologia.\\n\\nEspero que essa explicação tenha sido útil! Se tiver mais alguma pergunta, é só me dizer.\\n'"
      ]
     },
     "execution_count": 8,
     "metadata": {},
     "output_type": "execute_result"
    }
   ],
   "source": [
    "response = chat.send_message(\"O que é computação quântica?\")\n",
    "response.text"
   ]
  },
  {
   "cell_type": "markdown",
   "id": "afa8bcb2",
   "metadata": {},
   "source": [
    "Instruções do Sistema"
   ]
  },
  {
   "cell_type": "code",
   "execution_count": 9,
   "id": "cd0ea184",
   "metadata": {},
   "outputs": [
    {
     "data": {
      "text/plain": [
       "'A computação quântica é um tipo de computação que usa fenômenos da mecânica quântica, como superposição e entrelaçamento, para realizar operações em dados. Isso permite que os computadores quânticos resolvam certos tipos de problemas que são computacionalmente intratáveis para computadores clássicos.'"
      ]
     },
     "execution_count": 9,
     "metadata": {},
     "output_type": "execute_result"
    }
   ],
   "source": [
    "from google.genai import types\n",
    "\n",
    "chat_config = types.GenerateContentConfig(system_instruction=\"Você é um chatbot de suporte ao cliente, que sempre responde de forma sucinta mas informativa.\")\t\n",
    "\n",
    "chat = client.chats.create(model=model, config=chat_config)\n",
    "\n",
    "resposta = chat.send_message(\"O que é computação quântica?\")\n",
    "resposta.text"
   ]
  },
  {
   "cell_type": "markdown",
   "id": "84c95ef2",
   "metadata": {},
   "source": [
    "Acessando o histórico da conversa"
   ]
  },
  {
   "cell_type": "code",
   "execution_count": 10,
   "id": "4231a633",
   "metadata": {},
   "outputs": [
    {
     "data": {
      "text/plain": [
       "[UserContent(parts=[Part(video_metadata=None, thought=None, inline_data=None, code_execution_result=None, executable_code=None, file_data=None, function_call=None, function_response=None, text='O que é computação quântica?')], role='user'),\n",
       " Content(parts=[Part(video_metadata=None, thought=None, inline_data=None, code_execution_result=None, executable_code=None, file_data=None, function_call=None, function_response=None, text='A computação quântica é um tipo de computação que usa fenômenos da mecânica quântica, como superposição e entrelaçamento, para realizar operações em dados. Isso permite que os computadores quânticos resolvam certos tipos de problemas que são computacionalmente intratáveis para computadores clássicos.')], role='model')]"
      ]
     },
     "execution_count": 10,
     "metadata": {},
     "output_type": "execute_result"
    }
   ],
   "source": [
    "chat.get_history()"
   ]
  },
  {
   "cell_type": "markdown",
   "id": "42497e04",
   "metadata": {},
   "source": [
    "Criando um chat dentro de um loop"
   ]
  },
  {
   "cell_type": "code",
   "execution_count": 11,
   "id": "f9b09747",
   "metadata": {},
   "outputs": [],
   "source": [
    "prompt = input(\"Esperando prompt: \")\n",
    "\n",
    "while prompt != (\"sair\" or \"Sair\"):\n",
    "    resposta = chat.send_message(prompt)\n",
    "    print(\"Resposta: \", resposta.text)\n",
    "    print(\"\\n\")\n",
    "    prompt = input(\"Esperando prompt: \")"
   ]
  }
 ],
 "metadata": {
  "kernelspec": {
   "display_name": "Python 3",
   "language": "python",
   "name": "python3"
  },
  "language_info": {
   "codemirror_mode": {
    "name": "ipython",
    "version": 3
   },
   "file_extension": ".py",
   "mimetype": "text/x-python",
   "name": "python",
   "nbconvert_exporter": "python",
   "pygments_lexer": "ipython3",
   "version": "3.12.10"
  }
 },
 "nbformat": 4,
 "nbformat_minor": 5
}
